{
 "cells": [
  {
   "cell_type": "code",
   "execution_count": 9,
   "id": "522d2896",
   "metadata": {},
   "outputs": [
    {
     "name": "stdout",
     "output_type": "stream",
     "text": [
      "['A', 'B', 'D', 'E', 'F', 'C']\n"
     ]
    }
   ],
   "source": [
    "graph = {\n",
    "    'A': ['B', 'C'],\n",
    "    'B': ['D', 'E'],\n",
    "    'C': [],\n",
    "    'D': [],\n",
    "    'E':['F'],\n",
    "    'F':[]\n",
    "}\n",
    "\n",
    "def dfs_stack(graph, start):\n",
    "    visited = []\n",
    "    stack = [start]\n",
    "    while stack:\n",
    "        neighbour = stack.pop()\n",
    "        if neighbour not in visited:\n",
    "            visited.append(neighbour)\n",
    "            stack.extend(reversed(graph[neighbour]))\n",
    "    return visited\n",
    "\n",
    "print(dfs_stack(graph, 'A'))\n"
   ]
  },
  {
   "cell_type": "code",
   "execution_count": null,
   "id": "2760ba91",
   "metadata": {},
   "outputs": [],
   "source": []
  }
 ],
 "metadata": {
  "kernelspec": {
   "display_name": "base",
   "language": "python",
   "name": "python3"
  },
  "language_info": {
   "codemirror_mode": {
    "name": "ipython",
    "version": 3
   },
   "file_extension": ".py",
   "mimetype": "text/x-python",
   "name": "python",
   "nbconvert_exporter": "python",
   "pygments_lexer": "ipython3",
   "version": "3.12.4"
  }
 },
 "nbformat": 4,
 "nbformat_minor": 5
}
