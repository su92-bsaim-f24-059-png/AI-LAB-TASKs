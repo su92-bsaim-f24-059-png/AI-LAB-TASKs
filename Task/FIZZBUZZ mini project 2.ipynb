{
 "cells": [
  {
   "cell_type": "code",
   "execution_count": null,
   "id": "5d5d151f",
   "metadata": {},
   "outputs": [],
   "source": []
  },
  {
   "cell_type": "markdown",
   "id": "9fb49c3b",
   "metadata": {},
   "source": [
    "    Name:Mahlika\n",
    "    \n",
    "    Roll Number:BSAI059\n",
    "    \n",
    "    FIZZBUZZ GAME \n",
    "\n",
    "    Artificial Intelligence LAB "
   ]
  },
  {
   "cell_type": "code",
   "execution_count": null,
   "id": "437ebd0d",
   "metadata": {},
   "outputs": [],
   "source": [
    "class FizzBuzzGame:\n",
    "    def __init__(self, rounds=100):\n",
    "        self.rounds = rounds\n",
    "        self.previous_chosen = 0\n",
    "\n",
    "    def fizzbuzz_rule(self, number):\n",
    "        if number % 15 == 0:\n",
    "            return \"Fizz Buzz\"\n",
    "        elif number % 3 == 0:\n",
    "            return \"Fizz\"\n",
    "        elif number % 5 == 0:\n",
    "            return \"Buzz\"\n",
    "        else:\n",
    "            return str(number)\n",
    "\n",
    "    def play(self):\n",
    "        print(\"Starting FizzBuzz game...\\n\")\n",
    "        for chosen in range(1, self.rounds + 1):\n",
    "            actual = self.previous_chosen + chosen\n",
    "            correct_output = self.fizzbuzz_rule(actual)\n",
    "\n",
    "            print(f\"Computer -> {chosen}\")\n",
    "            user_input = input(\"Your turn: \")\n",
    "\n",
    "            if user_input.strip().lower() == correct_output.lower():\n",
    "                print(\" Correct!\\n\")\n",
    "            else:\n",
    "                print(f\"Wrong! Correct answer was: {correct_output}\\n\")\n",
    "            \n",
    "            self.previous_chosen = chosen\n",
    "\n",
    "\n",
    "if __name__ == \"__main__\":\n",
    "    game = FizzBuzzGame(rounds=15)\n",
    "    game.play()"
   ]
  }
 ],
 "metadata": {
  "kernelspec": {
   "display_name": "base",
   "language": "python",
   "name": "python3"
  },
  "language_info": {
   "name": "python",
   "version": "3.12.4"
  }
 },
 "nbformat": 4,
 "nbformat_minor": 5
}
