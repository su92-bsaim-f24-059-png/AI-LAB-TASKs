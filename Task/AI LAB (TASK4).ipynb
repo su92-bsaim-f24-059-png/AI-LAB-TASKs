{
 "cells": [
  {
   "cell_type": "code",
   "execution_count": 3,
   "id": "c4f7a61b",
   "metadata": {},
   "outputs": [
    {
     "name": "stdout",
     "output_type": "stream",
     "text": [
      "True\n",
      "False\n"
     ]
    }
   ],
   "source": [
    "def luhn(card_number):\n",
    "    card_number = card_number[::-1]\n",
    "    total = 0\n",
    "    for i in range(len(card_number)):\n",
    "        digit = int(card_number[i])\n",
    "        if i % 2 == 1:\n",
    "            digit = digit * 2\n",
    "            if digit > 9:\n",
    "                digit = digit - 9\n",
    "        total += digit\n",
    "    return total % 10 == 0\n",
    "\n",
    "\n",
    "print(luhn(\"45320158888938366\"))   \n",
    "print(luhn(\"1234567890123456\"))   \n"
   ]
  },
  {
   "cell_type": "code",
   "execution_count": 4,
   "id": "e68514b7",
   "metadata": {},
   "outputs": [
    {
     "name": "stdout",
     "output_type": "stream",
     "text": [
      "Hello I am MahlikaI am a Student  \n"
     ]
    }
   ],
   "source": [
    "def remove_punctuation(text):\n",
    "    result = \"\"\n",
    "    for ch in text:\n",
    "        if ch.isalnum() or ch.isspace():\n",
    "            result += ch\n",
    "    return result\n",
    "\n",
    "\n",
    "s = \"Hello!!! I am Mahlika,I am a Student  \"\n",
    "print(remove_punctuation(s))\n"
   ]
  },
  {
   "cell_type": "code",
   "execution_count": 5,
   "id": "62856435",
   "metadata": {},
   "outputs": [
    {
     "name": "stdout",
     "output_type": "stream",
     "text": [
      "Language a is programing python\n"
     ]
    }
   ],
   "source": [
    "def sort_sentence(sentence):\n",
    "    words = sentence.split()\n",
    "    n = len(words)\n",
    "    for i in range(n):\n",
    "        for j in range(0, n-i-1):\n",
    "            if words[j] > words[j+1]:\n",
    "                words[j], words[j+1] = words[j+1], words[j]\n",
    "    return \" \".join(words)\n",
    "\n",
    "sentence = \"python is a programing Language\"\n",
    "print(sort_sentence(sentence))\n"
   ]
  },
  {
   "cell_type": "code",
   "execution_count": null,
   "id": "4c4f79f0",
   "metadata": {},
   "outputs": [],
   "source": []
  }
 ],
 "metadata": {
  "kernelspec": {
   "display_name": "base",
   "language": "python",
   "name": "python3"
  },
  "language_info": {
   "codemirror_mode": {
    "name": "ipython",
    "version": 3
   },
   "file_extension": ".py",
   "mimetype": "text/x-python",
   "name": "python",
   "nbconvert_exporter": "python",
   "pygments_lexer": "ipython3",
   "version": "3.12.4"
  }
 },
 "nbformat": 4,
 "nbformat_minor": 5
}
