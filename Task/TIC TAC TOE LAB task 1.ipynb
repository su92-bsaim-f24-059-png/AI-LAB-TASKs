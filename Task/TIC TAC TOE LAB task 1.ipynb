{
 "cells": [
  {
   "cell_type": "code",
   "execution_count": 1,
   "id": "e9db420c",
   "metadata": {},
   "outputs": [],
   "source": [
    "import tkinter as tk\n",
    "from tkinter import messagebox\n",
    "\n",
    "def check_winner():\n",
    "    global winner\n",
    "    for combo in [[0,1,2],[3,4,5],[6,7,8],[0,3,6], [1,4,7],[2,5,8],[0,4,8],[2,4,6]]:\n",
    "        if buttons[combo[0]][\"text\"] == buttons[combo[1]][\"text\"] == buttons[combo[2]][\"text\"] != \"\":\n",
    "            buttons[combo[0]].config(bg=\"green\")\n",
    "            buttons[combo[1]].config(bg=\"green\")\n",
    "            buttons[combo[2]].config(bg=\"green\")\n",
    "            messagebox.showinfo(\"Tic-Tac-Toe\", f\"Player {buttons[combo[0]]['text']} wins!\")\n",
    "            root.quit()\n",
    "\n",
    "def button_click(index):\n",
    "    global winner\n",
    "    if buttons[index][\"text\"] == \"\" and not winner:\n",
    "        buttons[index][\"text\"] = current_player\n",
    "        check_winner()\n",
    "        toggle_player()\n",
    " \n",
    "def toggle_player():\n",
    "    global current_player\n",
    "    current_player = \"X\" if current_player == \"O\" else \"O\"\n",
    "    label.config(text=f\"Player {current_player}'s turn\")\n",
    "\n",
    "root = tk.Tk()\n",
    "root.title(\"Tic-Tac-Toe\")\n",
    "\n",
    "buttons = [tk.Button(root, text=\"\", font=(\"normal\", 25), width=6, height=2,\n",
    "                     command=lambda i=i: button_click(i)) for i in range(9)]\n",
    "\n",
    "for i, button in enumerate(buttons):\n",
    "    button.grid(row=i // 3, column=i % 3)\n",
    "\n",
    "current_player = \"X\"\n",
    "winner = False\n",
    "\n",
    "label = tk.Label(root, text=f\"Player {current_player}'s turn\", font=(\"normal\", 16))\n",
    "label.grid(row=3, column=0, columnspan=3)\n",
    "root.mainloop()"
   ]
  }
 ],
 "metadata": {
  "kernelspec": {
   "display_name": "base",
   "language": "python",
   "name": "python3"
  },
  "language_info": {
   "codemirror_mode": {
    "name": "ipython",
    "version": 3
   },
   "file_extension": ".py",
   "mimetype": "text/x-python",
   "name": "python",
   "nbconvert_exporter": "python",
   "pygments_lexer": "ipython3",
   "version": "3.12.4"
  }
 },
 "nbformat": 4,
 "nbformat_minor": 5
}
